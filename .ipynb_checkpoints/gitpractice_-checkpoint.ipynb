{
  "nbformat": 4,
  "nbformat_minor": 0,
  "metadata": {
    "colab": {
      "provenance": [],
      "authorship_tag": "ABX9TyPUU3IyKgxQxPILUqduN2vh",
      "include_colab_link": true
    },
    "kernelspec": {
      "name": "python3",
      "display_name": "Python 3"
    },
    "language_info": {
      "name": "python"
    }
  },
  "cells": [
    {
      "cell_type": "markdown",
      "metadata": {
        "id": "view-in-github",
        "colab_type": "text"
      },
      "source": [
        "<a href=\"https://colab.research.google.com/github/wambui2025/git-project-2025/blob/main/gitpractice_.ipynb\" target=\"_parent\"><img src=\"https://colab.research.google.com/assets/colab-badge.svg\" alt=\"Open In Colab\"/></a>"
      ]
    },
    {
      "cell_type": "markdown",
      "source": [
        "#PRACTICE THE GITHUB\n"
      ],
      "metadata": {
        "id": "XJEs9cNgMuil"
      }
    },
    {
      "cell_type": "code",
      "source": [
        "  import pandas as pd\n",
        "  import numpy as np\n",
        "  import matplotlib.pyplot as plt\n",
        "  import seaborn as sns\n",
        ""
      ],
      "metadata": {
        "id": "uyX32WXDM5zh"
      },
      "execution_count": null,
      "outputs": []
    },
    {
      "cell_type": "code",
      "source": [
        "# Set a seed for NumPy's random number generator so that results are reproducible (same every time you run it)\n",
        "np.random.seed(42)\n",
        "\n",
        "# Define how many rows (records) you want in your dataset\n",
        "num_rows = 120\n",
        "\n",
        "# Create a dictionary where each key represents a column in the DataFrame and the value is a list of values\n",
        "dict_data = {\n",
        "    # Employee_ID: A sequence of unique IDs from 1001 to 1120 (120 IDs total)\n",
        "    'Employee_ID': list(range(1001, 1001 + num_rows)),\n",
        "\n",
        "    # Name: Randomly pick 120 names from the list of 10 provided names\n",
        "    'Name': np.random.choice(\n",
        "        ['Alice', 'Bob', 'Charlie', 'David', 'Eva', 'Frank', 'Grace', 'Hannah', 'Ian', 'Jane'],\n",
        "        num_rows).tolist(),  # Convert the NumPy array to a regular Python list\n",
        "\n",
        "    # Age: Randomly select 120 values from a list that includes:\n",
        "    #  - 110 integers between 22 and 59 (inclusive)\n",
        "    #  - 10 np.nan (missing values), mixed in for realism\n",
        "    'Age': np.random.choice(\n",
        "        list(np.append(np.random.randint(22, 60, 110), [np.nan]*10)),\n",
        "        num_rows).tolist(),\n",
        "\n",
        "    # Gender: Randomly pick from 'Male', 'Female', 'Other', and some NaN values to simulate missing gender data\n",
        "    'Gender': np.random.choice(\n",
        "        ['Male', 'Female', 'Other', np.nan],\n",
        "        num_rows).tolist(),\n",
        "\n",
        "    # Department: Randomly choose from the list of departments, with some NaN values to simulate missing entries\n",
        "    'Department': np.random.choice(\n",
        "        ['Sales', 'Marketing', 'HR', 'Finance', 'IT', np.nan],\n",
        "        num_rows).tolist(),\n",
        "\n",
        "    # City: Randomly assign one of five African cities to each employee\n",
        "    'City': np.random.choice(\n",
        "        ['Nairobi', 'Kampala', 'Lagos', 'Accra', 'Johannesburg'],\n",
        "        num_rows).tolist(),\n",
        "\n",
        "    # Salary: Generate 110 salary values from a normal distribution centered at 50,000\n",
        "    # Add 10 np.nan values to simulate missing salary data\n",
        "    # Round the numbers to 2 decimal places and convert to list\n",
        "    'Salary': np.round(np.random.choice(\n",
        "        np.append(np.random.normal(50000, 15000, 110), [np.nan]*10),\n",
        "        num_rows), 2).tolist(),\n",
        "\n",
        "    # Performance_Score: Generate 110 random scores between 1.0 and 5.0, add 10 NaNs\n",
        "    # Round to 1 decimal place to simulate performance review scores\n",
        "    'Performance_Score': np.round(np.random.choice(\n",
        "        np.append(np.random.uniform(1.0, 5.0, 110), [np.nan]*10),\n",
        "        num_rows), 1).tolist(),\n",
        "\n",
        "    # Join_Date: Randomly select 120 dates from a range between Jan 1, 2015 and Dec 31, 2022\n",
        "    # Convert them to datetime format and to a list\n",
        "    'Join_Date': pd.to_datetime(np.random.choice(\n",
        "        pd.date_range('2015-01-01', '2022-12-31'),\n",
        "        num_rows)).tolist(),\n",
        "\n",
        "    # Active: Randomly assign either True or False to represent if the employee is currently active\n",
        "    'Active': np.random.choice([True, False], num_rows).tolist()\n",
        "}\n",
        "\n",
        "# Convert the dictionary of lists into a pandas DataFrame\n",
        "df = pd.DataFrame(dict_data)\n",
        "\n",
        "# Create 5 rows where all columns are NaN (completely empty rows)\n",
        "# This is useful for practicing how to drop rows with all missing data\n",
        "empty_rows = {col: [np.nan]*5 for col in df.columns}\n",
        "empty_df = pd.DataFrame(empty_rows)\n",
        "\n",
        "# Append the 5 empty rows to the original 120-row DataFrame\n",
        "df = pd.concat([df, empty_df], ignore_index=True)\n",
        "\n",
        "# Show the first 10 rows of the DataFrame to check how the data looks\n",
        "print(df.head(10))"
      ],
      "metadata": {
        "colab": {
          "base_uri": "https://localhost:8080/"
        },
        "id": "YEiO-P2wOYr9",
        "outputId": "ad699883-a7cb-4788-b319-06a731902a69"
      },
      "execution_count": 2,
      "outputs": [
        {
          "output_type": "stream",
          "name": "stdout",
          "text": [
            "   Employee_ID     Name   Age  Gender Department          City    Salary  \\\n",
            "0       1001.0    Grace  38.0   Other      Sales       Nairobi  76330.11   \n",
            "1       1002.0    David  41.0  Female         IT       Nairobi  50078.66   \n",
            "2       1003.0   Hannah  47.0   Other         IT         Accra  67691.60   \n",
            "3       1004.0      Eva  27.0   Other      Sales       Nairobi  36523.78   \n",
            "4       1005.0    Grace  51.0  Female         IT  Johannesburg  50528.95   \n",
            "5       1006.0     Jane  53.0  Female         IT         Lagos  50078.66   \n",
            "6       1007.0  Charlie   NaN  Female        nan         Lagos  60045.09   \n",
            "7       1008.0    Grace  27.0    Male         IT       Nairobi  78142.56   \n",
            "8       1009.0   Hannah  51.0     nan         HR         Accra  30432.96   \n",
            "9       1010.0      Eva   NaN    Male    Finance         Accra  25903.31   \n",
            "\n",
            "   Performance_Score  Join_Date Active  \n",
            "0                NaN 2017-04-12    1.0  \n",
            "1                2.4 2015-11-09    1.0  \n",
            "2                5.0 2022-09-07    0.0  \n",
            "3                4.1 2020-02-02    1.0  \n",
            "4                2.3 2020-06-30    0.0  \n",
            "5                4.1 2020-06-29    0.0  \n",
            "6                4.0 2021-10-26    1.0  \n",
            "7                4.2 2019-11-26    1.0  \n",
            "8                1.0 2015-11-24    0.0  \n",
            "9                3.0 2022-09-09    0.0  \n"
          ]
        },
        {
          "output_type": "stream",
          "name": "stderr",
          "text": [
            "/tmp/ipython-input-2-3342319050.py:71: FutureWarning: The behavior of DataFrame concatenation with empty or all-NA entries is deprecated. In a future version, this will no longer exclude empty or all-NA columns when determining the result dtypes. To retain the old behavior, exclude the relevant entries before the concat operation.\n",
            "  df = pd.concat([df, empty_df], ignore_index=True)\n"
          ]
        }
      ]
    }
  ]
}